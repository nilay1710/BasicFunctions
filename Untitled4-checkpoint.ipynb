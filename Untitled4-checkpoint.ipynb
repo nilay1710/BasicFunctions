{
 "cells": [
  {
   "cell_type": "code",
   "execution_count": 2,
   "id": "478d8931",
   "metadata": {},
   "outputs": [],
   "source": [
    "import cv2\n",
    "import math\n",
    "import numpy as np\n",
    "import matplotlib.pyplot as plt\n",
    "%matplotlib inline\n",
    "from IPython.display import Image\n",
    "import matplotlib.pyplot as plt"
   ]
  },
  {
   "cell_type": "code",
   "execution_count": 105,
   "id": "152a8329",
   "metadata": {},
   "outputs": [],
   "source": [
    "def drawLine(img,x,y,slope,b,g,r,thickness):\n",
    "    height = img.shape[0]\n",
    "    width = img.shape[1]\n",
    "    points = []\n",
    "    \n",
    "    intercept = y-slope*x\n",
    "    y0 = intercept\n",
    "    x0 = -intercept/slope\n",
    "    ymax = intercept + slope*width\n",
    "    xmax = (height - intercept)/slope\n",
    "    a = 0\n",
    "    if (y0 >= 0 and y0<height):\n",
    "        points.append([0,math.ceil(y0)])\n",
    "    if (x0 >= 0 and x0<width and not (x0==0 and y0==0)):\n",
    "        points.append([math.ceil(x0),0])\n",
    "    if (ymax>=0 and ymax<=height):\n",
    "        points.append([width-1,math.ceil(ymax)-1])\n",
    "    if (xmax >=0 and xmax<=width):\n",
    "        points.append([math.ceil(xmax)-1,height-1])\n",
    "        \n",
    "    if (len(points) < 2):\n",
    "        return False\n",
    "        \n",
    "    cv2.line(img, (points[0][0], points[0][1]), (points[1][0], points[1][1]), (b, g, r), thickness)\n",
    "        \n",
    "    \n",
    "        \n",
    "    "
   ]
  },
  {
   "cell_type": "code",
   "execution_count": 106,
   "id": "79093cad",
   "metadata": {},
   "outputs": [],
   "source": [
    "img_arr = cv2.imread('smiley.png', 1)\n",
    "drawLine(img_arr,10,0,1,0,0,255,4)\n",
    "cv2.imwrite('color_img2.jpg', img_arr)"
   ]
  },
  {
   "cell_type": "code",
   "execution_count": null,
   "id": "afd8ee12",
   "metadata": {},
   "outputs": [],
   "source": []
  },
  {
   "cell_type": "code",
   "execution_count": 192,
   "id": "1cc80a33",
   "metadata": {},
   "outputs": [],
   "source": [
    "def cropImage(img, p1,p2,p3,p4):\n",
    "    # p1 = [24,33]\n",
    "    vab = [p2[0]-p1[0], p2[1]-p1[1]]\n",
    "    vbc = [p3[0]-p2[0], p3[1]-p2[1]]\n",
    "    vcd = [p4[0]-p3[0], p4[1]-p3[1]]\n",
    "    vda = [p1[0]-p4[0], p1[1]-p4[1]]\n",
    "    \n",
    "\n",
    "    points = [p1,p2,p3,p4]\n",
    "\n",
    "\n",
    "    if (np.cross(vab,vbc)/abs(np.cross(vab,vbc))* np.cross(vcd,vda)/abs(np.cross(vab,vbc)) < 0):\n",
    "        print(np.cross(vab,vbc)* np.cross(vcd,vda))\n",
    "        points = [p1,p3,p2,p4]\n",
    "\n",
    "        \n",
    "    \n",
    "    x0 = (points[0][0] + points[2][0])/2\n",
    "    y0 = (points[0][1] + points[2][1])/2\n",
    "    \n",
    "    cropLine(img_arr,x0,y0,points[0][0],points[0][1],points[1][0],points[1][1])\n",
    "    cropLine(img_arr,x0,y0,points[1][0],points[1][1],points[2][0],points[2][1])\n",
    "    cropLine(img_arr,x0,y0,points[2][0],points[2][1],points[3][0],points[3][1])\n",
    "    cropLine(img_arr,x0,y0,points[3][0],points[3][1],points[0][0],points[0][1])\n",
    "    \n",
    "    \n",
    "def cropLine(img,x0,y0,x1,y1,x2,y2):\n",
    "    if ((x2-x1) == 0):\n",
    "        slope = 1000\n",
    "    else:\n",
    "        slope = (y2-y1)/(x2-x1)\n",
    "    \n",
    "    intercept = y1 - slope*x1\n",
    "    \n",
    "\n",
    "    \n",
    "    p0 = y0 - slope*x0 - intercept\n",
    "    \n",
    "    for i in range(img.shape[0]):\n",
    "        for j in range(img.shape[1]):\n",
    "            p1 = i - slope*j - intercept\n",
    "            if (p1*p0 < 0):\n",
    "                img[i,j] = [0,0,0]\n",
    "        \n",
    "        \n",
    "        \n",
    "    "
   ]
  },
  {
   "cell_type": "code",
   "execution_count": 194,
   "id": "75407239",
   "metadata": {},
   "outputs": [],
   "source": [
    "def get_angle(a, b, c):\n",
    "   angle = math.degrees(math.atan2(c[1]-b[1], c[0]-b[0]) - math.atan2(a[1]-b[1], a[0]-b[0]))\n",
    "   return angle + 360 if angle < 0 else angle\n",
    "\n",
    "def solve(points):\n",
    "   n = len(points)\n",
    "   for i in range(len(points)):\n",
    "      p1 = points[i-2]\n",
    "      p2 = points[i-1]\n",
    "      p3 = points[i]\n",
    "      if get_angle(p1, p2, p3) > 180:\n",
    "         return True\n",
    "   return False"
   ]
  },
  {
   "cell_type": "code",
   "execution_count": null,
   "id": "fc464995",
   "metadata": {},
   "outputs": [],
   "source": []
  },
  {
   "cell_type": "code",
   "execution_count": 189,
   "id": "8ca1b538",
   "metadata": {},
   "outputs": [],
   "source": []
  },
  {
   "cell_type": "code",
   "execution_count": 191,
   "id": "530c7dd5",
   "metadata": {},
   "outputs": [
    {
     "name": "stdout",
     "output_type": "stream",
     "text": [
      "2.9166666666666665\n",
      "[[10, 10], [10, 250], [50, 150], [250, 150]]\n"
     ]
    },
    {
     "data": {
      "text/plain": [
       "True"
      ]
     },
     "execution_count": 191,
     "metadata": {},
     "output_type": "execute_result"
    }
   ],
   "source": [
    "img_arr = cv2.imread('smiley.png', 1)\n",
    "cropImage(img_arr, [10,10],[10,250],[50,150],[250,150])\n",
    "cv2.imwrite('color_img2.jpg', img_arr)"
   ]
  },
  {
   "cell_type": "code",
   "execution_count": 174,
   "id": "617483ca",
   "metadata": {},
   "outputs": [
    {
     "data": {
      "text/plain": [
       "2460120000"
      ]
     },
     "execution_count": 174,
     "metadata": {},
     "output_type": "execute_result"
    }
   ],
   "source": []
  },
  {
   "cell_type": "code",
   "execution_count": null,
   "id": "883d99c0",
   "metadata": {},
   "outputs": [],
   "source": []
  }
 ],
 "metadata": {
  "kernelspec": {
   "display_name": "Python 3 (ipykernel)",
   "language": "python",
   "name": "python3"
  },
  "language_info": {
   "codemirror_mode": {
    "name": "ipython",
    "version": 3
   },
   "file_extension": ".py",
   "mimetype": "text/x-python",
   "name": "python",
   "nbconvert_exporter": "python",
   "pygments_lexer": "ipython3",
   "version": "3.10.9"
  }
 },
 "nbformat": 4,
 "nbformat_minor": 5
}
